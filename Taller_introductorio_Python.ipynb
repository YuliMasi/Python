{
  "nbformat": 4,
  "nbformat_minor": 0,
  "metadata": {
    "colab": {
      "provenance": [],
      "include_colab_link": true
    },
    "kernelspec": {
      "name": "python3",
      "display_name": "Python 3"
    },
    "language_info": {
      "name": "python"
    }
  },
  "cells": [
    {
      "cell_type": "markdown",
      "metadata": {
        "id": "view-in-github",
        "colab_type": "text"
      },
      "source": [
        "<a href=\"https://colab.research.google.com/github/YuliMasi/Python/blob/main/Taller_introductorio_Python.ipynb\" target=\"_parent\"><img src=\"https://colab.research.google.com/assets/colab-badge.svg\" alt=\"Open In Colab\"/></a>"
      ]
    },
    {
      "cell_type": "markdown",
      "source": [
        "# Introducción a Python\n",
        "\n",
        "\n",
        "> * Python es un lenguaje de programación de alto\n",
        "nivel, orientado a objetos y de código abierto.\n",
        "\n",
        "> * Python es un lenguaje interpretado, lo que significa que los programas se ejecutan directamente por la máquina virtual de Python, en lugar de compilarse a un código de máquina específico para el hardware.\n",
        "\n",
        "> * Python es un lenguaje dinámico, lo que significa que los tipos de datos se determinan en tiempo de ejecución.\n",
        "\n",
        "> * Python es relativamente fácil de aprender, incluso para personas que no tienen experiencia en programación.\n",
        "> * Documentación oficial en [https://www.python.org/](https://www.python.org/ )\n",
        "\n",
        "\n",
        "\n",
        "\n",
        "\n",
        "\n"
      ],
      "metadata": {
        "id": "Y-d1itN3htNP"
      }
    },
    {
      "cell_type": "markdown",
      "source": [
        "\n",
        "\n",
        "---\n",
        "\n"
      ],
      "metadata": {
        "id": "lrrmaWTT-LOE"
      }
    },
    {
      "cell_type": "markdown",
      "source": [
        "#Nuestro caso guía: CREACIÓN DE AVATARES DE PERFIL\n",
        "Para el desarrollo de este taller vamos a utilizar un caso guía. Durante el taller vamos a ir resolviendo el caso y adquiriendo el conocimiento necesario en python para resolver diferentes tareas.\n",
        "### Enunciado\n",
        "En este ejercicio, nos proponemos desarrollar un programa en Python que genere avatares de perfil de manera aleatoria. El programa interactuará con el usuario, solicitándole la cantidad de avatares que desea generar. Estos avatares se presentarán en la consola en formato de texto. Cada avatar estará compuesto por cuatro características clave: nombre, color, forma (círculo, cuadrado, triángulo), y accesorios (sombrero, gafas, corona, bigote, sonrisa).\n",
        "\n",
        "El usuario contribuirá proporcionando el nombre del avatar, mientras que el programa se encargará de generar aleatoriamente el color, la forma y los accesorios. Es importante destacar que, aunque el programa permitirá al usuario indicar cuántos avatares desea generar, se ha establecido un límite máximo de 3 avatares por ejecución.\n",
        "\n",
        "Para facilitar la experiencia del usuario, el programa brindará instrucciones claras al inicio de la ejecución, guiándolo a través del proceso de interacción y generación de avatares de manera amigable y comprensible.\n",
        "\n"
      ],
      "metadata": {
        "id": "Bg1SBJRM78IZ"
      }
    },
    {
      "cell_type": "markdown",
      "source": [
        "\n",
        "\n",
        "---\n",
        "\n"
      ],
      "metadata": {
        "id": "qnBbXZVC-HBf"
      }
    },
    {
      "cell_type": "markdown",
      "source": [
        "# PRIMERA TAREA.\n",
        "**Mostrar un mensaje con las instrucciones para la creación de avatares**"
      ],
      "metadata": {
        "id": "7eI2dpZ3Ipel"
      }
    },
    {
      "cell_type": "markdown",
      "source": [
        "# Imprimir un mensaje en Python\n",
        "Ejecute el siguiente código para mostrar un mensaje"
      ],
      "metadata": {
        "id": "XxbvDI3VInsg"
      }
    },
    {
      "cell_type": "code",
      "execution_count": null,
      "metadata": {
        "id": "wWg_FgkfhjCL",
        "colab": {
          "base_uri": "https://localhost:8080/"
        },
        "outputId": "9f9dd11d-b5f4-4b75-a2a0-b9cb8ae69195"
      },
      "outputs": [
        {
          "output_type": "stream",
          "name": "stdout",
          "text": [
            "Mi primer mensaje en python del lunes\n"
          ]
        }
      ],
      "source": [
        "print (\"Mi primer mensaje en python del lunes\")"
      ]
    },
    {
      "cell_type": "markdown",
      "source": [
        "# Ejercicio práctico 1\n",
        "Escribir el código requerido para mostrar un mensaje de bienvenida con tu nombre. Ejemplo: \"Bienvenido al taller de python, Luis\""
      ],
      "metadata": {
        "id": "w_resFBckQqs"
      }
    },
    {
      "cell_type": "code",
      "source": [
        "#Escribir aquí la solución para el ejercicio 1\n"
      ],
      "metadata": {
        "id": "ikvZ_OUYkx1I"
      },
      "execution_count": null,
      "outputs": []
    },
    {
      "cell_type": "markdown",
      "source": [
        "# Uso de comillas simples ' y dobles \"\n",
        "En Python, las comillas simples (') y las comillas dobles (\") se utilizan para delimitar cadenas de texto. Sin embargo, hay algunas diferencias entre el uso de cada uno de estos tipos de comillas.\n",
        "\n",
        "## Comillas simples\n",
        "\n",
        "    * Las comillas simples se utilizan generalmente para cadenas de texto cortas y simples.\n",
        "    * Las comillas simples se utilizan a menudo para definir variables de tipo str.\n",
        "\n",
        "Ejemplo:\n",
        "\n"
      ],
      "metadata": {
        "id": "zLKPU3xZk9Ss"
      }
    },
    {
      "cell_type": "code",
      "source": [
        "# Cadena de texto con caracteres especiales\n",
        "print( 'Esta es una cadena de \"texto\" con una nueva línea')"
      ],
      "metadata": {
        "id": "P90ycGA_om97",
        "colab": {
          "base_uri": "https://localhost:8080/"
        },
        "outputId": "21c75471-05d2-4e79-9cf5-8eff36d5eb33"
      },
      "execution_count": null,
      "outputs": [
        {
          "output_type": "stream",
          "name": "stdout",
          "text": [
            "Esta es una cadena de \"texto\" con una nueva línea\n"
          ]
        }
      ]
    },
    {
      "cell_type": "markdown",
      "source": [
        "#Comillas dobles\n",
        "\n",
        "    * Las comillas dobles se utilizan generalmente para cadenas de texto largas o complejas.\n",
        "    * Las comillas dobles se utilizan a menudo para definir variables de tipo str.\n",
        "\n",
        "Ejemplo:"
      ],
      "metadata": {
        "id": "HlA8BddLmU4g"
      }
    },
    {
      "cell_type": "code",
      "source": [
        "# Cadena de texto larga\n",
        "print(  \"Esta es una frase larga con varios caracteres especiales.\\n'Hola', \\\"¿Cómo estás?\\\"\")\n"
      ],
      "metadata": {
        "id": "yL4Q3l0bon4b",
        "colab": {
          "base_uri": "https://localhost:8080/"
        },
        "outputId": "ae3c8dae-7d78-4f44-a9fd-c4b45a229e02"
      },
      "execution_count": null,
      "outputs": [
        {
          "output_type": "stream",
          "name": "stdout",
          "text": [
            "Esta es una frase larga con varios caracteres especiales.\n",
            "'Hola', \"¿Cómo estás?\"\n"
          ]
        }
      ]
    },
    {
      "cell_type": "markdown",
      "source": [
        "# Texto multilínea\n",
        "En Python para mostrar mensajes en más de una línea se utilizan las comillas triples (\"\"\")."
      ],
      "metadata": {
        "id": "t0eOifwepc6V"
      }
    },
    {
      "cell_type": "code",
      "source": [
        "# Cadena de texto con varias líneas\n",
        "print(\"\"\"Esta es una cadena de texto con\n",
        "varias líneas.\n",
        "otra linea\n",
        "\"\"\")\n"
      ],
      "metadata": {
        "id": "hyX7YJHdqQKd",
        "colab": {
          "base_uri": "https://localhost:8080/"
        },
        "outputId": "f8073bc4-c9b4-4dd5-eab2-062ceb871cbc"
      },
      "execution_count": null,
      "outputs": [
        {
          "output_type": "stream",
          "name": "stdout",
          "text": [
            "Esta es una cadena de texto con\n",
            "varias líneas.\n",
            "otra linea\n",
            "\n"
          ]
        }
      ]
    },
    {
      "cell_type": "markdown",
      "source": [
        "# Ejercicio práctico 2\n",
        "Utilizando expresiones en java, muestre los siguientes mensajes en consola:\n",
        "* “Esta es el primer taller sobre el lenguaje Python”\n",
        "* 450\n",
        "* 18.5"
      ],
      "metadata": {
        "id": "C241XMNjrir9"
      }
    },
    {
      "cell_type": "code",
      "source": [
        "#Escribir aquí la solución para el ejercicio 2\n"
      ],
      "metadata": {
        "id": "0uUesOmmABm4"
      },
      "execution_count": null,
      "outputs": []
    },
    {
      "cell_type": "code",
      "source": [],
      "metadata": {
        "id": "vT757RObDc-l"
      },
      "execution_count": null,
      "outputs": []
    },
    {
      "cell_type": "code",
      "source": [
        "print(450)"
      ],
      "metadata": {
        "colab": {
          "base_uri": "https://localhost:8080/"
        },
        "id": "Dho8mbtV2qV3",
        "outputId": "6382284a-2b07-41c4-bdb3-21814da000db"
      },
      "execution_count": null,
      "outputs": [
        {
          "output_type": "stream",
          "name": "stdout",
          "text": [
            "450\n"
          ]
        }
      ]
    },
    {
      "cell_type": "markdown",
      "source": [
        "# Ejercicio práctico 3\n",
        "Escriba el código necesario para mostrar un mensaje con las instrucciones relevantes para el ejercicio \"Creación de Avatares de Perfil\""
      ],
      "metadata": {
        "id": "2ExHkXow_KnG"
      }
    },
    {
      "cell_type": "code",
      "source": [
        "#Escribir aquí la solución para el ejercicio 3\n"
      ],
      "metadata": {
        "id": "VjbU8uUIr5dX"
      },
      "execution_count": null,
      "outputs": []
    },
    {
      "cell_type": "markdown",
      "source": [
        "\n",
        "\n",
        "---\n",
        "\n"
      ],
      "metadata": {
        "id": "OFefdkeJ-Dgi"
      }
    },
    {
      "cell_type": "markdown",
      "source": [
        "# SEGUNDA TAREA\n",
        "**Crear variables para asignar valores a las características de los avatares.**"
      ],
      "metadata": {
        "id": "ABJUWOmIM3ht"
      }
    },
    {
      "cell_type": "markdown",
      "source": [
        "#Variables y operadores de asignación\n",
        "Variables\n",
        "\n",
        "Para declarar una variable en Python, se utiliza el operador ``=. Por ejemplo, la siguiente declaración declara una variable llamada nombre y le asigna el valor \"Juan\":\n",
        "\n",
        "Operadores de asignación\n",
        "\n",
        "Los operadores de asignación se utilizan para asignar un valor a una variable.  El operador de asignación más común es el signo igual (=).\n",
        "Además del signo igual, Python también admite otros operadores de asignación, como los siguientes:\n",
        "\n",
        "   * +=: Suma el valor de la expresión a la izquierda del operador al valor de la variable a la derecha del operador.\n",
        "   * -=: Resta el valor de la expresión a la izquierda del operador al valor de la variable a la derecha del operador.\n",
        "   * *=: Multiplica el valor de la expresión a la izquierda del operador por el valor de la variable a la derecha del operador.\n",
        "   * /=: Divide el valor de la expresión a la izquierda del operador por el valor de la variable a la derecha del operador.\n",
        "\n",
        "Ejemplo:\n",
        "\n"
      ],
      "metadata": {
        "id": "BDWJvpMPAbNv"
      }
    },
    {
      "cell_type": "code",
      "source": [
        "edad = 20\n",
        "print (edad)"
      ],
      "metadata": {
        "id": "GUrlCML4Lknr",
        "colab": {
          "base_uri": "https://localhost:8080/"
        },
        "outputId": "faf9c858-1bad-46b2-eca0-99f1a1bdb0e1"
      },
      "execution_count": null,
      "outputs": [
        {
          "output_type": "stream",
          "name": "stdout",
          "text": [
            "20\n"
          ]
        }
      ]
    },
    {
      "cell_type": "code",
      "source": [
        "edad -= 10\n",
        "print (edad)"
      ],
      "metadata": {
        "id": "G_I2HwgJMMF_",
        "colab": {
          "base_uri": "https://localhost:8080/"
        },
        "outputId": "7d05ba01-ae02-4f88-fa21-d625dbdb054f"
      },
      "execution_count": null,
      "outputs": [
        {
          "output_type": "stream",
          "name": "stdout",
          "text": [
            "10\n"
          ]
        }
      ]
    },
    {
      "cell_type": "markdown",
      "source": [
        "# Operadores artiméticos\n",
        "Los operadores aritméticos son símbolos que se utilizan para realizar operaciones matemáticas en Python. Los operadores aritméticos más comunes son:\n",
        "\n",
        "   * Suma: +\n",
        "   * Resta: -\n",
        "   * Multiplicación: *\n",
        "   * División: /\n",
        "   * Módulo: %\n",
        "   * Exponente: **\n",
        "\n",
        "Ejemplo:"
      ],
      "metadata": {
        "id": "TCBuVcjTsG1n"
      }
    },
    {
      "cell_type": "code",
      "source": [
        "print (50 + 250)"
      ],
      "metadata": {
        "id": "7ij3ud3Ls2zf",
        "colab": {
          "base_uri": "https://localhost:8080/"
        },
        "outputId": "226bc48e-bc69-4c3f-81de-fce917277251"
      },
      "execution_count": null,
      "outputs": [
        {
          "output_type": "stream",
          "name": "stdout",
          "text": [
            "300\n"
          ]
        }
      ]
    },
    {
      "cell_type": "markdown",
      "source": [
        "#Mostrar el valor de más de una variable en el mensaje\n",
        "La concatenación de variables es una operación que permite unir dos o más variables en una sola cadena. En Python, la concatenación se realiza utilizando el operador +.\n",
        "\n",
        "Ejemplos:"
      ],
      "metadata": {
        "id": "Dr2ySISBMG2k"
      }
    },
    {
      "cell_type": "code",
      "source": [
        "# Concatenación mediante el operador +\n",
        "nombre = \"Juan\"\n",
        "apellido = \"Pérez\"\n",
        "\n",
        "nombre_completo = nombre + \" \" + apellido\n",
        "print(nombre_completo)"
      ],
      "metadata": {
        "id": "4Bwus9-CPIR3",
        "colab": {
          "base_uri": "https://localhost:8080/"
        },
        "outputId": "d8952af7-8484-4a87-839c-8406da5cd7fc"
      },
      "execution_count": null,
      "outputs": [
        {
          "output_type": "stream",
          "name": "stdout",
          "text": [
            "Juan Pérez\n"
          ]
        }
      ]
    },
    {
      "cell_type": "code",
      "source": [
        "# Concatenación en la función print\n",
        "nombre = \"Juan\"\n",
        "apellido = \"Pérez\"\n",
        "edad = 18\n",
        "\n",
        "print(nombre + \" \"+apellido)"
      ],
      "metadata": {
        "id": "nvJjzABfPhnt",
        "colab": {
          "base_uri": "https://localhost:8080/"
        },
        "outputId": "9e41b39b-69eb-4b85-f795-1eb93f55bddc"
      },
      "execution_count": null,
      "outputs": [
        {
          "output_type": "stream",
          "name": "stdout",
          "text": [
            "Juan Pérez\n"
          ]
        }
      ]
    },
    {
      "cell_type": "code",
      "source": [
        "# Concatenación en la función print con valores separados por coma\n",
        "nombre = \"Juan\"\n",
        "apellido = \"Pérez\"\n",
        "\n",
        "print(nombre, apellido)"
      ],
      "metadata": {
        "colab": {
          "base_uri": "https://localhost:8080/"
        },
        "id": "29qrWdXvQbLh",
        "outputId": "868d47d2-ebb5-4704-f7ac-7d5a6575f838"
      },
      "execution_count": null,
      "outputs": [
        {
          "output_type": "stream",
          "name": "stdout",
          "text": [
            "Juan Pérez\n"
          ]
        }
      ]
    },
    {
      "cell_type": "code",
      "source": [
        "# Concatenación mediante la función join\n",
        "nombre = \"Juan\"\n",
        "apellido = \"Pérez\"\n",
        "\n",
        "nombre_completo = \" \".join([nombre, apellido, \"hola\" ])\n",
        "print(nombre_completo)"
      ],
      "metadata": {
        "colab": {
          "base_uri": "https://localhost:8080/"
        },
        "id": "7YW5XVGtP_lJ",
        "outputId": "4d235b88-a487-438d-f26c-9a609141b643"
      },
      "execution_count": null,
      "outputs": [
        {
          "output_type": "stream",
          "name": "stdout",
          "text": [
            "Juan Pérez hola\n"
          ]
        }
      ]
    },
    {
      "cell_type": "code",
      "source": [
        "# Concatenación mediante la función print, mezclando variables y texto\n",
        "nombre = \"Juan\"\n",
        "apellido = \"Pérez\"\n",
        "\n",
        "print(\"Hola, tu nombre es \"+ nombre + \"y tu apellido es \" +apellido)"
      ],
      "metadata": {
        "id": "F5ECa8IaTBWN",
        "colab": {
          "base_uri": "https://localhost:8080/"
        },
        "outputId": "847a3366-33d5-4860-b0d5-2454b42612fd"
      },
      "execution_count": null,
      "outputs": [
        {
          "output_type": "stream",
          "name": "stdout",
          "text": [
            "Hola, tu nombre es Juany tu apellido es Pérez\n"
          ]
        }
      ]
    },
    {
      "cell_type": "code",
      "source": [
        "# Concatenación mediante el método format\n",
        "nombre = \"Juan\"\n",
        "apellido = \"Pérez\"\n",
        "\n",
        "print( \"Hola, tu nombre es {} y tu apellido es {}\".format(nombre,apellido))"
      ],
      "metadata": {
        "colab": {
          "base_uri": "https://localhost:8080/"
        },
        "id": "TQ13OoW9TguR",
        "outputId": "32f484ca-4891-43fb-b0f4-11928bdb433b"
      },
      "execution_count": null,
      "outputs": [
        {
          "output_type": "stream",
          "name": "stdout",
          "text": [
            "Hola, tu nombre es Juan y tu apellido es Pérez\n"
          ]
        }
      ]
    },
    {
      "cell_type": "markdown",
      "source": [
        "Marcadores de posición\tpara otros tipos de valores para el método format.\n",
        "* {}\tCadena\n",
        "* {:d}\tNúmero entero\n",
        "* {:f}\tNúmero decimal\n",
        "* {:.2f}\tNúmero decimal con dos decimales\n",
        "* {:.3f}\tNúmero decimal con tres decimales\n",
        "* {:.0f}\tNúmero decimal sin decimales\n",
        "* {:e}\tNúmero en notación científica\n",
        "* {:g}\tNúmero en notación científica o decimal, según sea más apropiado\n",
        "* {:%}\tPorcentaje\n",
        "* {:b}\tNúmero en binario\n",
        "* {:o}\tNúmero en octal\n",
        "* {:x}\tNúmero en hexadecimal\n",
        "* {:c}\tCaracter\n",
        "* {:r}\tCadena con comillas dobles\n",
        "* {:s}\tCadena con comillas simples"
      ],
      "metadata": {
        "id": "b_3jvIs0UN6v"
      }
    },
    {
      "cell_type": "code",
      "source": [
        "# Concatenación o formateo mediante f-string\n",
        "nombre = \"Juan\"\n",
        "apellido = \"Pérez\"\n",
        "edad = 18\n",
        "\n",
        "print(f\"Hola, tu nombre es {nombre} y tu apellido es {apellido} y tienes {edad} años \")"
      ],
      "metadata": {
        "id": "2wT7IAgDVp2G"
      },
      "execution_count": null,
      "outputs": []
    },
    {
      "cell_type": "markdown",
      "source": [
        "#Ejercicio Práctico 4\n",
        "Copie el código de la solución del ejercicio práctico 3 y peguélo en al inicio de la solución del ejercicio 4.\n",
        "Además, definina una variable para cada una de las características descritas para el avatar- Inicialice las variales con un valor por defecto.  \n",
        "Finalmente, muestre un mensaje en el cual se muestren las características del avatar creado."
      ],
      "metadata": {
        "id": "GN3xxOytnaST"
      }
    },
    {
      "cell_type": "code",
      "source": [
        "#Escribir aquí la solución para el ejercicio 4\n"
      ],
      "metadata": {
        "id": "sl09UwSQpUIM"
      },
      "execution_count": null,
      "outputs": []
    },
    {
      "cell_type": "markdown",
      "source": [
        "\n",
        "\n",
        "---\n",
        "\n"
      ],
      "metadata": {
        "id": "SfJnO83L9-R5"
      }
    },
    {
      "cell_type": "markdown",
      "source": [
        "# TERCER TAREA\n",
        "**Solicitar el nombre del avatar al usuario**"
      ],
      "metadata": {
        "id": "M6ALOLwqp4zY"
      }
    },
    {
      "cell_type": "markdown",
      "source": [
        "#Entrada de datos del usuario\n",
        "En Python, la entrada de datos del usuario se puede realizar utilizando la función input(). Esta función toma una cadena como argumento y devuelve una cadena con la entrada del usuario.\n",
        "Ejemplo:\n"
      ],
      "metadata": {
        "id": "dBQ04DYxqkZ-"
      }
    },
    {
      "cell_type": "code",
      "source": [
        "# Solicitar datos al usuario con la función input\n",
        "nombre = input(\"¿Cuál es tu nombre? \")\n",
        "print(f\"Hola {nombre}\")"
      ],
      "metadata": {
        "id": "xIq12Stmq7UV",
        "colab": {
          "base_uri": "https://localhost:8080/"
        },
        "outputId": "e728d098-9c60-4629-a1a9-163123b75d3b"
      },
      "execution_count": null,
      "outputs": [
        {
          "output_type": "stream",
          "name": "stdout",
          "text": [
            "¿Cuál es tu nombre? Ronald\n",
            "Hola Ronald\n"
          ]
        }
      ]
    },
    {
      "cell_type": "markdown",
      "source": [
        "#Casting de valores\n",
        "Dado que la salida de la función input siempre es una cadena, en ocasiones es necesario convertir esa cadena a otros tipos de datos, como enteros o números decimales.\n",
        "Python proporciona una serie de funciones integradas que se pueden utilizar para realizar el casting de valores. Las funciones integradas más comunes para el casting son las siguientes:\n",
        "\n",
        "    * int(): Convierte un valor a un número entero.\n",
        "    * float(): Convierte un valor a un número decimal.\n",
        "    * str(): Convierte un valor a una cadena.\n",
        "\n",
        "Ejemplos:"
      ],
      "metadata": {
        "id": "t5mHt1AurT8V"
      }
    },
    {
      "cell_type": "code",
      "source": [
        "# Casting de una cadena con valores númericos a un valor entero\n",
        "numero = \"123\"\n",
        "\n",
        "numero_entero = int(numero)"
      ],
      "metadata": {
        "id": "lgbwYQI3sUcY"
      },
      "execution_count": null,
      "outputs": []
    },
    {
      "cell_type": "code",
      "source": [],
      "metadata": {
        "id": "CXWtKGrGKlMw"
      },
      "execution_count": null,
      "outputs": []
    },
    {
      "cell_type": "code",
      "source": [
        "# Casting de la salida de la función input a un valor entero\n",
        "edad = int(input(\"¿Cuál es tu edad? \"))"
      ],
      "metadata": {
        "id": "Yc4Wd3CGsyQY"
      },
      "execution_count": null,
      "outputs": []
    },
    {
      "cell_type": "markdown",
      "source": [
        "#Tipos de datos en Python\n",
        "* **Numéricos**\n",
        ">* **Enteros** | Representan números enteros. | `1`, `2`, `-10`, `0` |\n",
        ">* **Decimales** | Representan números decimales. | `2.5`, `3.14159`, `-10.5`, `0.0` |\n",
        ">* **Complejos** | Representan números complejos. | `(1, 2)`, `(3.14159, 0)`, `(-10, 5)`, `(0, 0)` |\n",
        "* | **Lógicos** | Representan valores lógicos. | True, False |\n",
        "* | **Texto** | Representan cadenas de texto. | \"Hola, mundo!\", \"Esta es una cadena\", \"123\" |\n",
        "* | Secuencias | Representan colecciones de datos. | [1, 2, 3], (\"a\", \"b\", \"c\"), {\"a\": 1, \"b\": 2, \"c\": 3} |\n",
        "* **Listas** | Representan colecciones ordenadas de datos. | [1, 2, 3], [\"a\", \"b\", \"c\"] |\n",
        "* **Tuplas** | Representan colecciones ordenadas de datos inmutables. | (\"a\", \"b\", \"c\") |\n",
        "* **Diccionarios** | Representan colecciones de datos asociativas. | {\"a\": 1, \"b\": 2, \"c\": 3} |\n",
        "* | **Conjuntos** | Representan colecciones de datos sin orden ni repetición. | {1, 2, 3}, {\"a\", \"b\", \"c\"} |\n",
        "* | **Tipos definidos por el usuario** | Representan tipos de datos personalizados. | class Persona: ... |"
      ],
      "metadata": {
        "id": "suVchVZptO7N"
      }
    },
    {
      "cell_type": "markdown",
      "source": [
        "# La función type()\n",
        "La función type() es una función integrada en Python que se utiliza para obtener el tipo de dato de un valor.\n",
        "\n",
        "La función type() toma un valor como argumento y devuelve un objeto de tipo. El objeto de tipo contiene información sobre el tipo de dato del valor, como el nombre del tipo, la clase del tipo, etc.\n",
        "\n",
        "Ejemplos:"
      ],
      "metadata": {
        "id": "lFAZ3sTbvqsr"
      }
    },
    {
      "cell_type": "code",
      "source": [
        "numero = 123\n",
        "\n",
        "print( type(numero))"
      ],
      "metadata": {
        "id": "_cWDj9KVv_is"
      },
      "execution_count": null,
      "outputs": []
    },
    {
      "cell_type": "code",
      "source": [
        "resultado = 1 + 2\n",
        "print( type(resultado))"
      ],
      "metadata": {
        "id": "NsMaxQJIwIz3"
      },
      "execution_count": null,
      "outputs": []
    },
    {
      "cell_type": "code",
      "source": [
        "nombre = \"Juan\"\n",
        "print(type(nombre))"
      ],
      "metadata": {
        "colab": {
          "base_uri": "https://localhost:8080/"
        },
        "id": "bZtYzR2xwZ4H",
        "outputId": "4047e85a-a938-49d1-dcc7-c0e9ed48bc87"
      },
      "execution_count": null,
      "outputs": [
        {
          "output_type": "stream",
          "name": "stdout",
          "text": [
            "<class 'str'>\n"
          ]
        }
      ]
    },
    {
      "cell_type": "code",
      "source": [
        "numero = 123.5\n",
        "\n",
        "print( type(numero))"
      ],
      "metadata": {
        "id": "8OoyvrJgwlea"
      },
      "execution_count": null,
      "outputs": []
    },
    {
      "cell_type": "markdown",
      "source": [
        "#Ejercicio Práctico 5\n",
        "Copie el código de la solución del ejercicio práctico 4 y peguélo en al inicio de la solución del ejercicio 5.\n",
        "Modifique el código para que el nombre asignado al avatar sea dado por el usuario."
      ],
      "metadata": {
        "id": "vwD1Zvct9RHS"
      }
    },
    {
      "cell_type": "code",
      "source": [
        "#Escribir aquí la solución para el ejercicio 5\n"
      ],
      "metadata": {
        "id": "mKVasXeX9n8h"
      },
      "execution_count": null,
      "outputs": []
    },
    {
      "cell_type": "markdown",
      "source": [
        "\n",
        "\n",
        "---\n",
        "\n"
      ],
      "metadata": {
        "id": "VLTVkEUbPZ0_"
      }
    },
    {
      "cell_type": "markdown",
      "source": [
        "# CUARTA TAREA\n",
        "**Generar una lista de valores para las características color, forma y accesorios.**\n",
        "\n"
      ],
      "metadata": {
        "id": "5ZUGMs5t96TO"
      }
    },
    {
      "cell_type": "markdown",
      "source": [
        "#Estructuras de almacenamiento temporal en memoria\n",
        "#Listas\n",
        "En Python, las listas son una estructura de datos que se utilizan para almacenar colecciones de datos. Los elementos de una lista pueden ser de cualquier tipo de dato, incluyendo números, cadenas, objetos, etc.\n",
        "\n",
        "Las listas se crean utilizando corchetes **[]**. Los elementos de la lista se separan por comas.\n",
        "\n",
        "Las listas se pueden acceder y modificar utilizando índices. Los índices de las listas comienzan en 0.\n",
        "\n",
        "Ejemplos:"
      ],
      "metadata": {
        "id": "ns0OLgVrPlX1"
      }
    },
    {
      "cell_type": "code",
      "source": [
        "#Definición de una lista con tres elementos numéricos\n",
        "lista = [1, 2, 3]\n",
        "print(lista)\n",
        "#tipo de dato para una lista\n",
        "print(type(lista))"
      ],
      "metadata": {
        "id": "6SUsjTIoQUCA",
        "colab": {
          "base_uri": "https://localhost:8080/"
        },
        "outputId": "01d1a7a5-b1c2-44b3-f74d-11d42f6a814c"
      },
      "execution_count": null,
      "outputs": [
        {
          "output_type": "stream",
          "name": "stdout",
          "text": [
            "[1, 2, 3]\n",
            "<class 'list'>\n"
          ]
        }
      ]
    },
    {
      "cell_type": "code",
      "source": [
        "#Imprimir el elemento 1 (indice 1)de la lista\n",
        "print(lista[1])\n",
        "\n",
        "#Imprimir el elemento utilizando indices negativos\n",
        "print(lista[-3])\n",
        "\n",
        "print(len(lista))"
      ],
      "metadata": {
        "id": "NRd6f08hQq79"
      },
      "execution_count": null,
      "outputs": []
    },
    {
      "cell_type": "markdown",
      "source": [
        "# Funciones para los objetos de tipo lista\n",
        "| Función | Descripción | Ejemplo |\n",
        "|---|---|---|\n",
        "| `append()` | Agrega un elemento a la lista al final. | `lista.append(4)` |\n",
        "| `extend()` | Agrega una secuencia de elementos a la lista al final. | `lista.extend([5, 6, 7])` |\n",
        "| `insert()` | Inserta un elemento en la lista en la posición especificada. | `lista.insert(1, \"hola\")` |\n",
        "| `remove()` | Elimina el primer elemento de la lista que coincida con el valor especificado. | `lista.remove(\"hola\")` |\n",
        "| `pop()` | Elimina el elemento de la lista en la posición especificada. | `elemento = lista.pop(1)` |\n",
        "| `clear()` | Elimina todos los elementos de la lista. | `lista.clear()` |\n",
        "| `index()` | Devuelve el índice del primer elemento de la lista que coincida con el valor especificado. | `posicion = lista.index(3)` |\n",
        "| `count()` | Devuelve el número de veces que el valor especificado aparece en la lista. | `numero = lista.count(3)` |\n",
        "| `sort()` | Ordena los elementos de la lista en orden ascendente. | `lista.sort()` |\n",
        "| `reverse()` | Invierte el orden de los elementos de la lista. | `lista.reverse()` |\n",
        "| `copy()` | Crea una copia de la lista. | `copia = lista.copy()` |\n",
        "| `len()` | Devuelve la longitud de la lista. | `longitud = len(lista)` |"
      ],
      "metadata": {
        "id": "wRThrxtPR8g8"
      }
    },
    {
      "cell_type": "code",
      "source": [
        "# Agregar un elemento a una lista\n",
        "lista = [1, 2, 3]\n",
        "lista.append(4)\n",
        "print(lista)\n",
        "\n"
      ],
      "metadata": {
        "id": "pdSkGw2fSeWZ"
      },
      "execution_count": null,
      "outputs": []
    },
    {
      "cell_type": "code",
      "source": [
        "# Eliminar un elemento de una lista\n",
        "lista = [1, 2, 3, 4]\n",
        "lista.remove(3)\n",
        "print(lista)"
      ],
      "metadata": {
        "id": "XjD5JgROSrYC"
      },
      "execution_count": null,
      "outputs": []
    },
    {
      "cell_type": "code",
      "source": [
        "# Modificar un elemento de una lista\n",
        "lista = [1, 2, 3, 4]\n",
        "lista[1] = 5\n",
        "print(lista)"
      ],
      "metadata": {
        "id": "AUipxBkdSsRE"
      },
      "execution_count": null,
      "outputs": []
    },
    {
      "cell_type": "code",
      "source": [
        "# Ordenar una lista\n",
        "lista = [1, 5, 3, 4]\n",
        "lista.sort()\n",
        "print(lista)"
      ],
      "metadata": {
        "id": "-28C8796SwHD"
      },
      "execution_count": null,
      "outputs": []
    },
    {
      "cell_type": "code",
      "source": [
        "# Buscar un elemento en una lista\n",
        "lista = [1, 2, 3, 4]\n",
        "posicion = lista.index(3)\n",
        "print(posicion)"
      ],
      "metadata": {
        "id": "X_umbjuCS13Y"
      },
      "execution_count": null,
      "outputs": []
    },
    {
      "cell_type": "markdown",
      "source": [
        "#Tuplas\n",
        "En Python, las tuplas son una estructura de datos que se utilizan para almacenar colecciones de datos. Los elementos de una tupla pueden ser de cualquier tipo de dato, incluyendo números, cadenas, objetos, etc.\n",
        "\n",
        "Las tuplas se crean utilizando paréntesis **()**. Los elementos de la tupla se separan por comas.\n",
        "\n",
        "A diferencia de las listas, las tuplas son inmutables, lo que significa que no pueden ser modificadas una vez que son creadas.\n",
        "\n",
        "Ejemplos:"
      ],
      "metadata": {
        "id": "mHAGg0MPTDQ-"
      }
    },
    {
      "cell_type": "code",
      "source": [
        "# Asignación\n",
        "tupla = (1, 2, 3)\n",
        "\n",
        "# Impresión\n",
        "print(tupla)\n",
        "\n",
        "# Comparación\n",
        "tupla1 = (1, 2, 3)\n",
        "tupla2 = (1, 2, 3)\n",
        "\n",
        "print(tupla1 == tupla2)\n",
        "\n",
        "# Membresía\n",
        "tupla = (1, 2, 3)\n",
        "\n",
        "print(1 in tupla)"
      ],
      "metadata": {
        "id": "2r1RWgNwTtrX",
        "colab": {
          "base_uri": "https://localhost:8080/"
        },
        "outputId": "61729540-cd40-45bb-cff4-aae90007a18c"
      },
      "execution_count": null,
      "outputs": [
        {
          "output_type": "stream",
          "name": "stdout",
          "text": [
            "(1, 2, 3)\n",
            "True\n",
            "True\n"
          ]
        }
      ]
    },
    {
      "cell_type": "markdown",
      "source": [
        "#Ejercicio Práctico 6\n",
        "Copie el código de la solución del ejercicio práctico 5 y peguélo en al inicio de la solución del ejercicio 6.\n",
        "Además,modifique el codigo para:\n",
        "\n",
        "\n",
        "*   Crear una lista que almacene 6 colores diferentes para el avatar.\n",
        "*   Crear una lista que almacene 6 formas diferentes para el avatar.\n",
        "* Crear una lista que almacene 6 accesorios para el avatar.\n",
        "*En lugar de asignar los valores a las características del avatar, selecione un elemento de la lista para asignar los valores a cada característica.\n",
        "\n"
      ],
      "metadata": {
        "id": "yIg_JZBPUD85"
      }
    },
    {
      "cell_type": "code",
      "source": [
        "#Escribir aquí la solución para el ejercicio 6\n",
        "\n"
      ],
      "metadata": {
        "id": "d78wc3pcVc4s"
      },
      "execution_count": null,
      "outputs": []
    },
    {
      "cell_type": "markdown",
      "source": [
        "\n",
        "\n",
        "---\n",
        "\n"
      ],
      "metadata": {
        "id": "4Xc3KvE593id"
      }
    },
    {
      "cell_type": "markdown",
      "source": [
        "#QUINTA TAREA\n",
        "\n",
        "Solicitar el número de avatar a crear y limitar el número máximo permitido."
      ],
      "metadata": {
        "id": "YFCPVWrgCAJ4"
      }
    },
    {
      "cell_type": "markdown",
      "source": [
        "#Ejercicio Práctico 7\n",
        "\n",
        "Copie el código de la solución del ejercicio práctico 6 y peguélo en al inicio de la solución del ejercicio 7.\n",
        "Modifique de forma tal que antes de asignar los valores a las características de avatar, se solicite al usuario la cantidad de avatar que desea crear."
      ],
      "metadata": {
        "id": "-HcgCfoLCWlO"
      }
    },
    {
      "cell_type": "code",
      "source": [
        "#Escribir aquí la solución para el ejercicio 7"
      ],
      "metadata": {
        "id": "ApmfNT2fC66h"
      },
      "execution_count": null,
      "outputs": []
    },
    {
      "cell_type": "markdown",
      "source": [
        "#Estructuras de control condicionales\n",
        "Las condicionales son estructuras de control que permiten que un programa ejecute diferentes bloques de código según el valor de una expresión booleana.\n",
        "\n",
        "En Python, las condicionales se implementan utilizando los operadores **if**, **elif** y **else**.\n",
        "\n",
        "Estructura básica\n",
        "\n",
        "La estructura básica de una condicional en Python es la siguiente:\n",
        "\n",
        "```\n",
        "if expresión_booleana:\n",
        "    Bloque de código 1\n",
        "elif expresión_booleana_2:\n",
        "    Bloque de código 2\n",
        "else:\n",
        "    Bloque de código 3\n",
        "```\n",
        "\n",
        "Ejemplos:\n"
      ],
      "metadata": {
        "id": "NRL_v6ySDBsf"
      }
    },
    {
      "cell_type": "code",
      "source": [
        "# Comprueba si un número es mayor que 10\n",
        "numero = 12\n",
        "\n",
        "if numero > 10:\n",
        "  print(\"El número es mayor que 10\")\n",
        "\n",
        "# Comprueba si un nombre es \"Juan\" o \"María\"\n",
        "nombre = \"Juan\"\n",
        "\n",
        "if nombre == \"Juan\" or nombre == \"María\":\n",
        "  print(\"El nombre es Juan o María\")\n",
        "\n",
        "# Comprueba si un número es par o impar\n",
        "numero = 12\n",
        "\n",
        "if numero % 2 == 0:\n",
        "  print(\"El número es par\")\n",
        "else:\n",
        "  print(\"El número es impar\")"
      ],
      "metadata": {
        "id": "Mq-SyiWTEZja"
      },
      "execution_count": null,
      "outputs": []
    },
    {
      "cell_type": "code",
      "source": [
        "numero = 10\n",
        "\n",
        "if numero > 10:\n",
        "  print(\"El número es mayor que 10\")\n",
        "elif numero == 10:\n",
        "  print(\"El número es igual a 10\")\n",
        "else:\n",
        "  print(\"El número es menor que 10\")\n"
      ],
      "metadata": {
        "id": "mRJJknGvEsm_"
      },
      "execution_count": null,
      "outputs": []
    },
    {
      "cell_type": "markdown",
      "source": [
        "#Tabla de operadores relacionales en Python\n",
        "| Operador | Descripción | Resultado |\n",
        "|---|---|---|\n",
        "| `==` | Igualdad | Verdadero si los valores de los operandos son iguales. |\n",
        "| `!=` | Desigualdad | Verdadero si los valores de los operandos son diferentes. |\n",
        "| `>` | Mayor que | Verdadero si el valor del primer operando es mayor que el valor del segundo operando. |\n",
        "| `<` | Menor que | Verdadero si el valor del primer operando es menor que el valor del segundo operando. |\n",
        "| `>=` | Mayor o igual que | Verdadero si el valor del primer operando es mayor o igual que el valor del segundo operando. |\n",
        "| `<=` | Menor o igual que | Verdadero si el valor del primer operando es menor o igual que el valor del segundo operando. |\n"
      ],
      "metadata": {
        "id": "eO7Wl_DbGFmW"
      }
    },
    {
      "cell_type": "markdown",
      "source": [
        "#Ejercicio Práctico 8\n",
        "\n",
        "Copie el código de la solución del ejercicio práctico 7 y peguélo en al inicio de la solución del ejercicio 8.\n",
        "Modifique de forma tal que antes de asignar los valores a las características de avatar, el programa verifique que la cantidad de avatar digitados por el usuario sea menor o igual a la cantidad máxima permitida. Si la cantidad cumple la condición, entonces se deben asignar los valores a cada característica. En caso contrario, mostrar un mensaje al usuario indicando que excede el número de avatar permitidos."
      ],
      "metadata": {
        "id": "i7bHxXUGFIaQ"
      }
    },
    {
      "cell_type": "code",
      "source": [
        "#Escribir aquí la solución para el ejercicio 8\n",
        "print(\"hola\")"
      ],
      "metadata": {
        "id": "caGqLvHSFU08"
      },
      "execution_count": null,
      "outputs": []
    },
    {
      "cell_type": "markdown",
      "source": [
        "#Estructuras de control para repeticiones (Ciclos)\n",
        "**Ciclo for**\n",
        "\n",
        "El ciclo for se utiliza para iterar sobre una secuencia de datos. La secuencia de datos puede ser una lista, una tupla, un conjunto o un rango.\n",
        "\n",
        "La estructura básica de un ciclo for en Python es la siguiente:\n",
        "\n",
        "**for** elemento **in** secuencia**:**\n",
        ">  Bloque de código\n",
        "\n",
        "Ejemplos:\n",
        "\n",
        "\n"
      ],
      "metadata": {
        "id": "661lYKuHG7jd"
      }
    },
    {
      "cell_type": "code",
      "source": [
        "# Iterar sobre un rango de valores con paso de uno\n",
        "for numero in range(1, 10):\n",
        "  print(numero)\n",
        "print(\"*******\")\n",
        "# Iterar sobre un rango de valores con paso de dos\n",
        "for numero in range(0, 10,2):\n",
        "  print(numero)"
      ],
      "metadata": {
        "id": "JrAsOe44OBRS"
      },
      "execution_count": null,
      "outputs": []
    },
    {
      "cell_type": "code",
      "source": [
        "# Iterar sobre una lista\n",
        "lista = [1, 2, 3, 4, 5]\n",
        "\n",
        "for elemento in lista:\n",
        "  print(elemento)"
      ],
      "metadata": {
        "id": "1hh6FWc7O6gc"
      },
      "execution_count": null,
      "outputs": []
    },
    {
      "cell_type": "code",
      "source": [
        "# Iterar sobre una tupla\n",
        "tupla = (\"a\", \"b\", \"c\")\n",
        "\n",
        "for elemento in tupla:\n",
        "  print(elemento)"
      ],
      "metadata": {
        "id": "UQMqtwFYPBTm"
      },
      "execution_count": null,
      "outputs": []
    },
    {
      "cell_type": "code",
      "source": [
        "# Iterar sobre un conjunto\n",
        "conjunto = {1, 2, 3}\n",
        "\n",
        "for elemento in conjunto:\n",
        "  print(elemento)"
      ],
      "metadata": {
        "id": "1TGlDze3PISE"
      },
      "execution_count": null,
      "outputs": []
    },
    {
      "cell_type": "markdown",
      "source": [
        "#Ejercicio Práctico 9\n",
        "\n",
        "Copie el código de la solución del ejercicio práctico 8 y peguélo en al inicio de la solución del ejercicio 9.\n",
        "Modifique de forma tal que, se realice un ciclo para crear la cantidad de avatar requeridos por el usuario. Al finalizar el ciclo muestre la información de los avatares creados."
      ],
      "metadata": {
        "id": "isH0NVd8WLky"
      }
    },
    {
      "cell_type": "code",
      "source": [
        "#Escribir aquí la solución para el ejercicio 9\n",
        "lista = []\n",
        "lista.append(\"Luis\" + \"rojo\" + \"cuadrado\" + \"lentes\")\n",
        "print(lista)"
      ],
      "metadata": {
        "id": "hZNzHpRBW84j",
        "colab": {
          "base_uri": "https://localhost:8080/"
        },
        "outputId": "46556685-2486-4c04-a16c-9c2edb7c31b1"
      },
      "execution_count": null,
      "outputs": [
        {
          "output_type": "stream",
          "name": "stdout",
          "text": [
            "[1, 2, 3, 1, 1, 1]\n"
          ]
        }
      ]
    },
    {
      "cell_type": "markdown",
      "source": [
        "# SEXTA TAREA\n",
        "**Escoger los valores de las características de forma aleatoria**"
      ],
      "metadata": {
        "id": "jIZh3eqJ-Rvj"
      }
    },
    {
      "cell_type": "markdown",
      "source": [
        "#Import librerías en Python\n",
        "Para importar una librería en Python, se utiliza la instrucción **import**. La sintaxis de la instrucción import es la siguiente:\n",
        "\n",
        "**import** nombre_libreria\n",
        "\n",
        "Ejemplos:"
      ],
      "metadata": {
        "id": "uThY_wP6vHh7"
      }
    },
    {
      "cell_type": "code",
      "source": [
        "#Importar la librería de operaciones matemáticas math\n",
        "import math\n",
        "\n",
        "raiz_cuadrada = math.sqrt(16)"
      ],
      "metadata": {
        "id": "U8xc1RzJveHT"
      },
      "execution_count": null,
      "outputs": []
    },
    {
      "cell_type": "code",
      "source": [
        "#Importar una función específica mediante from\n",
        "from math import sqrt\n",
        "\n",
        "raiz_cuadrada = sqrt(16)"
      ],
      "metadata": {
        "id": "1Iq9rENFvsma"
      },
      "execution_count": null,
      "outputs": []
    },
    {
      "cell_type": "code",
      "source": [
        "# Importar la variable pi del módulo math\n",
        "from math import pi"
      ],
      "metadata": {
        "id": "hJfwW4YEw0Q6"
      },
      "execution_count": null,
      "outputs": []
    },
    {
      "cell_type": "code",
      "source": [
        "# Importar la clase Person del módulo person\n",
        "from person import Person"
      ],
      "metadata": {
        "id": "rUh2PgYtx9Oj"
      },
      "execution_count": null,
      "outputs": []
    },
    {
      "cell_type": "markdown",
      "source": [
        "#Números aleatorios\n",
        "Un número aleatorio es un número que no se puede predecir con certeza. Los números aleatorios se utilizan en una variedad de aplicaciones, incluyendo juegos de azar, simulaciones y seguridad.\n",
        "\n",
        "En Python, los números aleatorios se generan utilizando el módulo random. El módulo random contiene una variedad de funciones para generar números aleatorios, incluyendo:\n",
        "\n",
        "   * **randint():** Devuelve un número entero aleatorio entre dos valores especificados.\n",
        "   * **random():** Devuelve un número flotante aleatorio entre 0 y 1.\n",
        "   * **uniform():**  Devuelve un número flotante aleatorio entre dos valores especificados.\n",
        "   * **choice():** Devuelve un elemento aleatorio de una secuencia.\n",
        "\n",
        "Ejemplos:"
      ],
      "metadata": {
        "id": "K3li5sYNyBDd"
      }
    },
    {
      "cell_type": "code",
      "source": [
        "#Generar un número aleatorio entre 1 y 10\n",
        "import random\n",
        "\n",
        "numero = random.randint(1, 10)\n",
        "\n",
        "print(numero)"
      ],
      "metadata": {
        "id": "S7NTEvHJytTZ"
      },
      "execution_count": null,
      "outputs": []
    },
    {
      "cell_type": "code",
      "source": [
        "#Generar un número flotante aleatorio entre 0 y 1\n",
        "import random\n",
        "\n",
        "numero = random.random()\n",
        "\n",
        "print(numero)\n"
      ],
      "metadata": {
        "id": "7kLxS9Ncy0Tq"
      },
      "execution_count": null,
      "outputs": []
    },
    {
      "cell_type": "code",
      "source": [
        "import random\n",
        "\n",
        "numero = random.uniform(0, 100)\n",
        "print (numero)\n",
        "\n",
        "if numero < 50:\n",
        "    print(\"El número es menor que 50.\")\n",
        "else:\n",
        "    print(\"El número es mayor o igual que 50.\")"
      ],
      "metadata": {
        "id": "vDOLQG0b0ILA"
      },
      "execution_count": null,
      "outputs": []
    },
    {
      "cell_type": "code",
      "source": [
        "import random\n",
        "\n",
        "lista = ['a', 'b', 'c', 'd']\n",
        "\n",
        "letra = random.choice(lista)\n",
        "\n",
        "print(letra)"
      ],
      "metadata": {
        "id": "Y_6YiDnm0fod"
      },
      "execution_count": null,
      "outputs": []
    },
    {
      "cell_type": "markdown",
      "source": [
        "#Ejercicio Práctico 10\n",
        "\n",
        "Copie el código de la solución del ejercicio práctico 9 y peguélo en al inicio de la solución del ejercicio 10. Modifique de forma tal que, los valores para cada una de las características se escojan de forma aleatoria, utilizando los valores de las listas."
      ],
      "metadata": {
        "id": "jiVrhsHp0p60"
      }
    },
    {
      "cell_type": "code",
      "source": [
        "#Escribir aquí la solución para el ejercicio 10\n"
      ],
      "metadata": {
        "id": "0vXUGgA11ONf"
      },
      "execution_count": null,
      "outputs": []
    },
    {
      "cell_type": "markdown",
      "source": [
        "\n",
        "\n",
        "---\n",
        "\n"
      ],
      "metadata": {
        "id": "Lx8-OWMw1XaJ"
      }
    },
    {
      "cell_type": "markdown",
      "source": [
        "#Optimizando el código\n",
        "#Uso de diccionarios\n",
        "Un diccionario en Python es una estructura de datos que almacena datos en pares de claves y valores. Las claves son únicas y los valores pueden ser de cualquier tipo.\n",
        "\n",
        "Los diccionarios se utilizan para almacenar datos relacionados entre sí. Por ejemplo, se pueden utilizar para almacenar datos sobre personas, como sus nombres, edades y direcciones. También se pueden utilizar para almacenar datos sobre productos, como sus precios, descripciones y categorías.\n",
        "\n",
        "Sintaxis\n",
        "\n",
        "La sintaxis para crear un diccionario en Python es la siguiente:\n",
        "\n",
        "diccionario = {\n",
        "\n",
        "    clave1: valor1,\n",
        "    clave2: valor2,\n",
        "    ...\n",
        "}\n",
        "\n",
        "Ejemplos:"
      ],
      "metadata": {
        "id": "alBAl8_I1YjW"
      }
    },
    {
      "cell_type": "code",
      "source": [
        "diccionario = {\n",
        "    \"nombre\": \"Juan Pérez\",\n",
        "    \"edad\": 30\n",
        "}\n",
        "print (diccionario)\n",
        "print (type(diccionario))"
      ],
      "metadata": {
        "id": "MS9jk2ex4yXu"
      },
      "execution_count": null,
      "outputs": []
    },
    {
      "cell_type": "code",
      "source": [
        "#Acceder a los valores del diccionario, valor = diccionario[clave]\n",
        "valor = diccionario[\"nombre\"]\n",
        "print(valor)"
      ],
      "metadata": {
        "id": "lUP3uBM047yV"
      },
      "execution_count": null,
      "outputs": []
    },
    {
      "cell_type": "code",
      "source": [
        "#Agregar elementos al diccionario, diccionario[clave] = valor\n",
        "diccionario[\"dirección\"] = \"Calle 123, 4567\""
      ],
      "metadata": {
        "id": "pnHueLoW6QbZ"
      },
      "execution_count": null,
      "outputs": []
    },
    {
      "cell_type": "code",
      "source": [
        "#Eliminar elementos del diccionario, del diccionario[clave]\n",
        "del diccionario[\"edad\"]"
      ],
      "metadata": {
        "id": "-jMZo8_V6eZm"
      },
      "execution_count": null,
      "outputs": []
    },
    {
      "cell_type": "code",
      "source": [
        "# Recorrer los elementos del diccionario\n",
        "for clave, valor in diccionario.items():\n",
        "    print(valor)"
      ],
      "metadata": {
        "id": "Fcmn-k7n6m9Q"
      },
      "execution_count": null,
      "outputs": []
    },
    {
      "cell_type": "markdown",
      "source": [
        "#Métodos de diccionario\n",
        "\n",
        "Los diccionarios tienen una serie de métodos que se pueden utilizar para manipularlos. Algunos de los métodos más comunes son los siguientes:\n",
        "\n",
        "  * **dict.clear():** Elimina todos los elementos del diccionario.\n",
        "  * **dict.copy():** Crea una copia del diccionario.\n",
        "  * **dict.get():** Devuelve el valor de una clave, o un valor predeterminado si la clave no existe.\n",
        "  * **dict.items():** Devuelve una lista de pares de claves y valores.\n",
        "  *  **dict.keys():** Devuelve una lista de claves.\n",
        "  *  **dict.pop():** Elimina un elemento del diccionario y devuelve su valor.\n",
        "  *  **dict.setdefault():** Devuelve el valor de una clave, o lo establece en un valor predeterminado si la clave no existe.\n",
        "  *  **dict.update():** Actualiza el diccionario con los elementos de otro diccionario.\n"
      ],
      "metadata": {
        "id": "ntYqdor97GeT"
      }
    },
    {
      "cell_type": "markdown",
      "source": [
        "#Ejercicio Práctico 11\n",
        "\n",
        "Copie el código de la solución del ejercicio práctico 10 y peguélo en al inicio de la solución del ejercicio 11. Modifique de forma tal que, el avatar creado sea un diccionario y cada una de las caracteristicas sea una clave. Los valores se asignan de la misma forma."
      ],
      "metadata": {
        "id": "uPW-zm557pTG"
      }
    },
    {
      "cell_type": "code",
      "source": [
        "#Escribir aquí la solución para el ejercicio 11\n"
      ],
      "metadata": {
        "id": "9_cSAH3J69EP"
      },
      "execution_count": null,
      "outputs": []
    },
    {
      "cell_type": "markdown",
      "source": [
        "\n",
        "\n",
        "---\n",
        "\n"
      ],
      "metadata": {
        "id": "pn7OZcAZ8LvF"
      }
    },
    {
      "cell_type": "markdown",
      "source": [
        "#Optimizando el código\n",
        "#Uso de funciones\n",
        "Las funciones son una herramienta muy útil en Python. Las funciones se pueden utilizar para:\n",
        "\n",
        "  *  **Agrupar código relacionado**. Las funciones permiten agrupar código relacionado en un solo lugar, lo que hace que el código sea más fácil de leer y mantener.\n",
        "  *  **Reutilizar código**. Las funciones se pueden reutilizar en diferentes partes del código, lo que ahorra tiempo y esfuerzo.\n",
        "  *  **Hacer el código más modular**. Las funciones permiten dividir el código en módulos más pequeños, lo que facilita el desarrollo y la depuración del código.\n",
        "\n",
        "**Definición de funciones**\n",
        "\n",
        "Para definir una función en Python, se utiliza la palabra clave **def**. La sintaxis para definir una función es la siguiente:\n",
        "\n",
        "**def** nombre_funcion(argumentos)**:**\n",
        "> *código de la función*\n",
        "\n",
        "Ejemplos:"
      ],
      "metadata": {
        "id": "_0PB40Cf8krt"
      }
    },
    {
      "cell_type": "code",
      "source": [
        "\"\"\" Definición de la función suma, que recibe dos argumentos y\n",
        "retorna el resultado de la suma de los valores de los argumentos \"\"\"\n",
        "def suma(a, b):\n",
        "    return a + b\n",
        "\n",
        "#Llamado a la función suma\n",
        "resultado = suma(1, 2)\n",
        "\n",
        "print(resultado)"
      ],
      "metadata": {
        "id": "M2VCvhtB9zWK"
      },
      "execution_count": null,
      "outputs": []
    },
    {
      "cell_type": "code",
      "source": [
        "#Argumentos por defecto\n",
        "def saludar(nombre=\"mundo\"):\n",
        "    print(\"Hola, \" + nombre + \"!\")\n",
        "\n",
        "saludar()"
      ],
      "metadata": {
        "id": "pKx30VP7-7Ep"
      },
      "execution_count": null,
      "outputs": []
    },
    {
      "cell_type": "code",
      "source": [
        "# Retornar valor\n",
        "def calcular_area(radio):\n",
        "    pi = 3.141592653589793\n",
        "    return pi * radio ** 2\n",
        "\n",
        "area = calcular_area(5)\n",
        "\n",
        "print(area)"
      ],
      "metadata": {
        "id": "85YALAPV_J47"
      },
      "execution_count": null,
      "outputs": []
    },
    {
      "cell_type": "code",
      "source": [
        "def suma(a, b):\n",
        "    return a + b\n",
        "\n",
        "#Llamado a la función suma con argumentos posicionales\n",
        "resultado = suma(1, 2)\n",
        "print(resultado)\n",
        "\n",
        "#Llamado a la función suma con argumentos nombrados\n",
        "resultado = suma(a=1, b=2)\n",
        "print(resultado)"
      ],
      "metadata": {
        "id": "GCpMQGAO_lLK"
      },
      "execution_count": null,
      "outputs": []
    },
    {
      "cell_type": "markdown",
      "source": [
        "#Ejercicio Práctico 11\n",
        "\n",
        "Copie el código de la solución del ejercicio práctico 10 y peguélo en al inicio de la solución del ejercicio 11. Modifique de forma tal que, se utilice una función que crear el avatar y retorne el avartar creado."
      ],
      "metadata": {
        "id": "f5R6jFBVHMz6"
      }
    },
    {
      "cell_type": "markdown",
      "source": [
        "\n",
        "\n",
        "---\n",
        "\n"
      ],
      "metadata": {
        "id": "nYzjCctuIZS5"
      }
    },
    {
      "cell_type": "code",
      "source": [
        "import random\n",
        "\n",
        "# Listas de elementos para el avatar\n",
        "colores = [\"rojo\", \"verde\", \"azul\", \"amarillo\", \"rosa\", \"morado\", \"naranja\"]\n",
        "formas = [\"círculo\", \"cuadrado\", \"triángulo\"]\n",
        "accesorios = [\"sombrero\", \"gafas\", \"corona\", \"bigote\", \"sonrisa\"]\n",
        "#nombre = \"\"\n",
        "\n",
        "def generar_avatar():\n",
        "    # Seleccionar elementos aleatorios\n",
        "    color = random.choice(colores)\n",
        "    forma = random.choice(formas)\n",
        "    accesorio = random.choice(accesorios)\n",
        "    avatard = {\n",
        "        \"nombre\" : input(\"Digite el nombre\"),\n",
        "        \"color\" : random.choice(colores)\n",
        "    }\n",
        "    print (avatard)\n",
        "    # Combinar elementos para formar el avatar\n",
        "    avatar = f\"Avatar: Color - {color}, Forma - {forma}, Accesorio - {accesorio}\"\n",
        "\n",
        "    return avatar\n",
        "\n",
        "# Generar y mostrar un avatar\n",
        "avatar_generado = generar_avatar()\n",
        "print(avatar_generado)"
      ],
      "metadata": {
        "colab": {
          "base_uri": "https://localhost:8080/"
        },
        "id": "pEs3cW1v1f5h",
        "outputId": "77945bdb-b739-4269-e428-39cac2f0f233"
      },
      "execution_count": null,
      "outputs": [
        {
          "output_type": "stream",
          "name": "stdout",
          "text": [
            "Digite el nombrepegaso\n",
            "{'nombre': 'pegaso', 'color': 'morado'}\n",
            "Avatar: Color - rojo, Forma - triángulo, Accesorio - sombrero\n"
          ]
        }
      ]
    },
    {
      "cell_type": "code",
      "source": [
        "\n"
      ],
      "metadata": {
        "id": "I8VtCK4q6U07"
      },
      "execution_count": null,
      "outputs": []
    }
  ]
}